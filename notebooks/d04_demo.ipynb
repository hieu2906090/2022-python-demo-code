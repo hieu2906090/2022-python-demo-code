{
 "cells": [
  {
   "cell_type": "code",
   "execution_count": 2,
   "metadata": {},
   "outputs": [
    {
     "name": "stdout",
     "output_type": "stream",
     "text": [
      "Mời bạn chọn: (1) Búa, (2) Kéo, (3) Bao\n",
      "Người dùng chọn giá trị: 1. Máy chọn giá trị: 2\n",
      "Người thắng. Người: 1. Máy: 2\n"
     ]
    }
   ],
   "source": [
    "import random\n",
    "\n",
    "print(\"Mời bạn chọn: (1) Búa, (2) Kéo, (3) Bao\")\n",
    "userinput = input()\n",
    "botinput = random.randint(1, 3)\n",
    "print('Người dùng chọn giá trị: {0}. Máy chọn giá trị: {1}'.format(\n",
    "    userinput, botinput))\n",
    "\n",
    "# Case HOÀ\n",
    "if (int(userinput) == botinput):\n",
    "    print('Hoà')\n",
    "\n",
    "# Case BAO\n",
    "if (int(userinput) == 3):\n",
    "    if (botinput == 1):\n",
    "        print('Bao thắng Búa')\n",
    "    else:\n",
    "        print('Bao thua')\n",
    "# NORMAL CASE\n",
    "if (int(userinput) < botinput):\n",
    "    print('Người thắng. Người: {0}. Máy: {1}'.format(userinput, botinput))\n",
    "else:\n",
    "    print('Máy thắng. Người: {0}. Máy: {1}'.format(userinput, botinput))\n"
   ]
  },
  {
   "cell_type": "code",
   "execution_count": 10,
   "metadata": {},
   "outputs": [
    {
     "name": "stdout",
     "output_type": "stream",
     "text": [
      "Str1 Thứ HAI là ngày Đầu Tuần\n",
      "Str2 Thứ Đầu Tuần là ngày HAI\n",
      "Str3 Thứ Đầu Tuần là ngày HAI\n"
     ]
    }
   ],
   "source": [
    "thu = 'HAI'\n",
    "thuTu = 'Đầu Tuần'\n",
    "# str1 = 'Thứ ' + thu + ' là ngày ' + thuTu\n",
    "list = [thu, thuTu]\n",
    "str1 = 'Thứ {0} là ngày {1}'.format(thu, thuTu)\n",
    "str2 = 'Thứ {1} là ngày {0}'.format(thu, thuTu)\n",
    "str3 = 'Thứ {v1} là ngày {v2}'.format(v1=thuTu, v2=thu)\n",
    "print('Str1', str1)\n",
    "print('Str2', str2)\n",
    "print('Str3', str3)"
   ]
  },
  {
   "cell_type": "code",
   "execution_count": 8,
   "metadata": {},
   "outputs": [],
   "source": [
    "def functionTest(*args):\n",
    "    print(args)\n",
    "    \n",
    "functionTest(1,2,3,4,5)"
   ]
  },
  {
   "cell_type": "code",
   "execution_count": 17,
   "metadata": {},
   "outputs": [
    {
     "name": "stdout",
     "output_type": "stream",
     "text": [
      "para1\n",
      "para2\n",
      "para3\n"
     ]
    }
   ],
   "source": [
    "def functionTest2(**kwargs):\n",
    "    for k in kwargs:\n",
    "        print(k)\n",
    "\n",
    "functionTest2(para1='1', para2=2, para3=3)"
   ]
  },
  {
   "cell_type": "code",
   "execution_count": 18,
   "metadata": {},
   "outputs": [
    {
     "name": "stdout",
     "output_type": "stream",
     "text": [
      "__main__\n"
     ]
    }
   ],
   "source": [
    "print(__name__)"
   ]
  },
  {
   "cell_type": "code",
   "execution_count": 21,
   "metadata": {},
   "outputs": [
    {
     "name": "stdout",
     "output_type": "stream",
     "text": [
      "n\n",
      "g\n",
      "u\n",
      "y\n",
      "e\n",
      "n\n",
      " \n",
      "q\n",
      "u\n",
      "a\n",
      "n\n",
      "g\n",
      " \n",
      "h\n",
      "i\n",
      "e\n",
      "u\n"
     ]
    }
   ],
   "source": [
    "string = 'Nguyen Quang Hieu'\n",
    "for c in string:\n",
    "    print(c.lower())"
   ]
  },
  {
   "cell_type": "code",
   "execution_count": null,
   "metadata": {},
   "outputs": [],
   "source": []
  }
 ],
 "metadata": {
  "interpreter": {
   "hash": "31f2aee4e71d21fbe5cf8b01ff0e069b9275f58929596ceb00d14d90e3e16cd6"
  },
  "kernelspec": {
   "display_name": "Python 3.8.9 64-bit",
   "language": "python",
   "name": "python3"
  },
  "language_info": {
   "codemirror_mode": {
    "name": "ipython",
    "version": 3
   },
   "file_extension": ".py",
   "mimetype": "text/x-python",
   "name": "python",
   "nbconvert_exporter": "python",
   "pygments_lexer": "ipython3",
   "version": "3.8.9"
  },
  "orig_nbformat": 4
 },
 "nbformat": 4,
 "nbformat_minor": 2
}
